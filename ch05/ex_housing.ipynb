{
 "cells": [
  {
   "cell_type": "code",
   "execution_count": 1,
   "metadata": {},
   "outputs": [
    {
     "name": "stderr",
     "output_type": "stream",
     "text": [
      "/home/linhvt/Projects/github.com/vitalivu/int6051-hoc-may-thong-ke/venv/lib/python3.8/site-packages/pandas/compat/__init__.py:97: UserWarning: Could not import the lzma module. Your installed Python is incomplete. Attempting to use lzma compression will result in a RuntimeError.\n",
      "  warnings.warn(msg)\n"
     ]
    },
    {
     "data": {
      "text/plain": "           id             date     price  bedrooms  bathrooms  sqft_living  \\\n0  7129300520  20141013T000000  221900.0         3       1.00         1180   \n1  6414100192  20141209T000000  538000.0         3       2.25         2570   \n2  5631500400  20150225T000000  180000.0         2       1.00          770   \n3  2487200875  20141209T000000  604000.0         4       3.00         1960   \n4  1954400510  20150218T000000  510000.0         3       2.00         1680   \n\n   sqft_lot  floors  waterfront  view  condition  grade  sqft_above  \\\n0      5650     1.0           0     0          3      7        1180   \n1      7242     2.0           0     0          3      7        2170   \n2     10000     1.0           0     0          3      6         770   \n3      5000     1.0           0     0          5      7        1050   \n4      8080     1.0           0     0          3      8        1680   \n\n   sqft_basement  yr_built  yr_renovated  zipcode      lat     long  \\\n0              0      1955             0    98178  47.5112 -122.257   \n1            400      1951          1991    98125  47.7210 -122.319   \n2              0      1933             0    98028  47.7379 -122.233   \n3            910      1965             0    98136  47.5208 -122.393   \n4              0      1987             0    98074  47.6168 -122.045   \n\n   sqft_living15  sqft_lot15  \n0           1340        5650  \n1           1690        7639  \n2           2720        8062  \n3           1360        5000  \n4           1800        7503  ",
      "text/html": "<div>\n<style scoped>\n    .dataframe tbody tr th:only-of-type {\n        vertical-align: middle;\n    }\n\n    .dataframe tbody tr th {\n        vertical-align: top;\n    }\n\n    .dataframe thead th {\n        text-align: right;\n    }\n</style>\n<table border=\"1\" class=\"dataframe\">\n  <thead>\n    <tr style=\"text-align: right;\">\n      <th></th>\n      <th>id</th>\n      <th>date</th>\n      <th>price</th>\n      <th>bedrooms</th>\n      <th>bathrooms</th>\n      <th>sqft_living</th>\n      <th>sqft_lot</th>\n      <th>floors</th>\n      <th>waterfront</th>\n      <th>view</th>\n      <th>condition</th>\n      <th>grade</th>\n      <th>sqft_above</th>\n      <th>sqft_basement</th>\n      <th>yr_built</th>\n      <th>yr_renovated</th>\n      <th>zipcode</th>\n      <th>lat</th>\n      <th>long</th>\n      <th>sqft_living15</th>\n      <th>sqft_lot15</th>\n    </tr>\n  </thead>\n  <tbody>\n    <tr>\n      <th>0</th>\n      <td>7129300520</td>\n      <td>20141013T000000</td>\n      <td>221900.0</td>\n      <td>3</td>\n      <td>1.00</td>\n      <td>1180</td>\n      <td>5650</td>\n      <td>1.0</td>\n      <td>0</td>\n      <td>0</td>\n      <td>3</td>\n      <td>7</td>\n      <td>1180</td>\n      <td>0</td>\n      <td>1955</td>\n      <td>0</td>\n      <td>98178</td>\n      <td>47.5112</td>\n      <td>-122.257</td>\n      <td>1340</td>\n      <td>5650</td>\n    </tr>\n    <tr>\n      <th>1</th>\n      <td>6414100192</td>\n      <td>20141209T000000</td>\n      <td>538000.0</td>\n      <td>3</td>\n      <td>2.25</td>\n      <td>2570</td>\n      <td>7242</td>\n      <td>2.0</td>\n      <td>0</td>\n      <td>0</td>\n      <td>3</td>\n      <td>7</td>\n      <td>2170</td>\n      <td>400</td>\n      <td>1951</td>\n      <td>1991</td>\n      <td>98125</td>\n      <td>47.7210</td>\n      <td>-122.319</td>\n      <td>1690</td>\n      <td>7639</td>\n    </tr>\n    <tr>\n      <th>2</th>\n      <td>5631500400</td>\n      <td>20150225T000000</td>\n      <td>180000.0</td>\n      <td>2</td>\n      <td>1.00</td>\n      <td>770</td>\n      <td>10000</td>\n      <td>1.0</td>\n      <td>0</td>\n      <td>0</td>\n      <td>3</td>\n      <td>6</td>\n      <td>770</td>\n      <td>0</td>\n      <td>1933</td>\n      <td>0</td>\n      <td>98028</td>\n      <td>47.7379</td>\n      <td>-122.233</td>\n      <td>2720</td>\n      <td>8062</td>\n    </tr>\n    <tr>\n      <th>3</th>\n      <td>2487200875</td>\n      <td>20141209T000000</td>\n      <td>604000.0</td>\n      <td>4</td>\n      <td>3.00</td>\n      <td>1960</td>\n      <td>5000</td>\n      <td>1.0</td>\n      <td>0</td>\n      <td>0</td>\n      <td>5</td>\n      <td>7</td>\n      <td>1050</td>\n      <td>910</td>\n      <td>1965</td>\n      <td>0</td>\n      <td>98136</td>\n      <td>47.5208</td>\n      <td>-122.393</td>\n      <td>1360</td>\n      <td>5000</td>\n    </tr>\n    <tr>\n      <th>4</th>\n      <td>1954400510</td>\n      <td>20150218T000000</td>\n      <td>510000.0</td>\n      <td>3</td>\n      <td>2.00</td>\n      <td>1680</td>\n      <td>8080</td>\n      <td>1.0</td>\n      <td>0</td>\n      <td>0</td>\n      <td>3</td>\n      <td>8</td>\n      <td>1680</td>\n      <td>0</td>\n      <td>1987</td>\n      <td>0</td>\n      <td>98074</td>\n      <td>47.6168</td>\n      <td>-122.045</td>\n      <td>1800</td>\n      <td>7503</td>\n    </tr>\n  </tbody>\n</table>\n</div>"
     },
     "execution_count": 1,
     "metadata": {},
     "output_type": "execute_result"
    }
   ],
   "source": [
    "import numpy as np\n",
    "import pandas as pd\n",
    "\n",
    "pd.set_option('display.max_rows', None)\n",
    "pd.set_option('display.max_columns', None)\n",
    "pd.set_option('display.width', None)\n",
    "pd.set_option('display.max_colwidth', None)\n",
    "\n",
    "data1 = pd.read_csv('../data/kc_house_data.csv')\n",
    "\n",
    "data1.head()\n"
   ]
  },
  {
   "cell_type": "code",
   "execution_count": 2,
   "metadata": {
    "pycharm": {
     "name": "#%%\n"
    }
   },
   "outputs": [
    {
     "data": {
      "text/plain": "['sqft_living',\n 'grade',\n 'sqft_above',\n 'sqft_living15',\n 'bathrooms',\n 'view',\n 'sqft_basement',\n 'bedrooms',\n 'waterfront',\n 'floors',\n 'yr_renovated',\n 'sqft_lot',\n 'sqft_lot15',\n 'yr_built',\n 'condition']"
     },
     "execution_count": 2,
     "metadata": {},
     "output_type": "execute_result"
    }
   ],
   "source": [
    "features = data1.corr()['price'].drop(['price', 'lat', 'long']).sort_values(ascending=False)[:15].index.tolist()\n",
    "features"
   ]
  },
  {
   "cell_type": "code",
   "execution_count": 3,
   "metadata": {
    "pycharm": {
     "name": "#%%\n"
    }
   },
   "outputs": [
    {
     "data": {
      "text/plain": "((15129, 21), (6484, 21))"
     },
     "execution_count": 3,
     "metadata": {},
     "output_type": "execute_result"
    }
   ],
   "source": [
    "from sklearn.model_selection import train_test_split\n",
    "\n",
    "train_data, test_data = train_test_split(data1, train_size=0.7, random_state=3)\n",
    "train_data.shape, test_data.shape"
   ]
  },
  {
   "cell_type": "code",
   "execution_count": 4,
   "metadata": {
    "pycharm": {
     "name": "#%%\n"
    }
   },
   "outputs": [
    {
     "name": "stdout",
     "output_type": "stream",
     "text": [
      "Scaled_Ridge: 0.652022 (+/- 0.018853)\n",
      "Scaled_Lasso: 0.608718 (+/- 0.020484)\n",
      "Scaled_KNN_reg: 0.682335 (+/- 0.017376)\n"
     ]
    }
   ],
   "source": [
    "from sklearn.preprocessing import StandardScaler\n",
    "from sklearn.linear_model import Lasso, Ridge\n",
    "from sklearn.neighbors import KNeighborsRegressor\n",
    "from sklearn.pipeline import Pipeline\n",
    "from sklearn.model_selection import KFold, cross_val_score\n",
    "\n",
    "pipelines = []\n",
    "seed = 2\n",
    "\n",
    "pipelines.append((\"Scaled_Ridge\", Pipeline([(\"Scaler\", StandardScaler()),\n",
    "                                            (\"Ridge\", Ridge(random_state=seed, tol=10))])))\n",
    "pipelines.append((\"Scaled_Lasso\", Pipeline([(\"Scaler\", StandardScaler()),\n",
    "                                            (\"Lasso\", Lasso(random_state=seed, tol=10))])))\n",
    "\n",
    "pipelines.append((\"Scaled_KNN_reg\", Pipeline([(\"Scaler\", StandardScaler()),\n",
    "                                              (\"KNN_reg\", KNeighborsRegressor())])))\n",
    "\n",
    "#'neg_mean_absolute_error', 'neg_mean_squared_error','r2'\n",
    "scoring = 'r2'\n",
    "n_folds = 10\n",
    "results, names = [], []\n",
    "for name, model in pipelines:\n",
    "    kfold = KFold(n_splits=n_folds, random_state=None)\n",
    "    cv_results = cross_val_score(model, train_data[features], train_data['price'], cv=kfold, scoring=scoring, n_jobs=-1)\n",
    "    names.append(name)\n",
    "    results.append(cv_results)\n",
    "    msg = \"%s: %f (+/- %f)\" % (name, cv_results.mean(), cv_results.std())\n",
    "    print(msg)"
   ]
  },
  {
   "cell_type": "code",
   "execution_count": 5,
   "metadata": {
    "pycharm": {
     "name": "#%%\n"
    }
   },
   "outputs": [
    {
     "data": {
      "image/png": "[encoded data removed]",
      "text/plain": [
       "<Figure size 1296x432 with 1 Axes>"
      ]
     },
     "metadata": {
      "needs_background": "light"
     },
     "output_type": "display_data"
    }
   ],
   "source": [
    "import matplotlib.pyplot as plt\n",
    "\n",
    "# boxplot algorithm comparison\n",
    "fig = plt.figure(figsize=(18, 6))\n",
    "fig.suptitle('Algorithm Comparison by R2')\n",
    "ax = fig.add_subplot(111)\n",
    "plt.boxplot(results)\n",
    "ax.set_xticklabels(names)\n",
    "plt.xticks(rotation=90)\n",
    "plt.show()"
   ]
  },
  {
   "cell_type": "code",
   "execution_count": 6,
   "metadata": {
    "pycharm": {
     "name": "#%%\n"
    }
   },
   "outputs": [],
   "source": [
    "evaluation = pd.DataFrame({'Model': [],\n",
    "                           'Details': [],\n",
    "                           'Root Mean Squared Error (RMSE)': [],\n",
    "                           'R-squared (training)': [],\n",
    "                           'Adjusted R-squared (training)': [],\n",
    "                           'R-squared (test)': [],\n",
    "                           'Adjusted R-squared (test)': [],\n",
    "                           '10-Fold Cross Validation': []})\n",
    "\n",
    "\n",
    "def adjustedR2(r2, n, k):\n",
    "    return r2 - (k - 1) / (n - k) * (1 - r2)\n",
    "\n",
    "\n",
    "# DISPLAY MODELLING\n",
    "import seaborn as sns\n",
    "\n",
    "\n",
    "def model_performance_sc_plot(predictions, labels, title):\n",
    "    min_val = max(max(predictions), max(labels))\n",
    "    max_val = min(min(predictions), min(labels))\n",
    "    performance_df = pd.DataFrame({\"Label\": labels})\n",
    "    performance_df[\"Prediction\"] = predictions\n",
    "    sns.jointplot(y=\"Label\", x=\"Prediction\", data=performance_df, kind=\"reg\", height=7)\n",
    "    plt.plot([min_val, max_val], [min_val, max_val], 'm--')\n",
    "    plt.title(title, fontsize=9)\n",
    "    plt.show()"
   ]
  },
  {
   "cell_type": "markdown",
   "metadata": {
    "pycharm": {
     "name": "#%% md\n"
    }
   },
   "source": [
    "### 1. Model Decision tree"
   ]
  },
  {
   "cell_type": "code",
   "execution_count": 7,
   "metadata": {
    "pycharm": {
     "name": "#%%\n"
    }
   },
   "outputs": [
    {
     "ename": "NameError",
     "evalue": "name 'pred3' is not defined",
     "output_type": "error",
     "traceback": [
      "\u001B[0;31m---------------------------------------------------------------------------\u001B[0m",
      "\u001B[0;31mNameError\u001B[0m                                 Traceback (most recent call last)",
      "\u001B[0;32m<ipython-input-7-56301017b34a>\u001B[0m in \u001B[0;36m<module>\u001B[0;34m\u001B[0m\n\u001B[1;32m     21\u001B[0m \u001B[0mevaluation\u001B[0m\u001B[0;34m.\u001B[0m\u001B[0msort_values\u001B[0m\u001B[0;34m(\u001B[0m\u001B[0mby\u001B[0m\u001B[0;34m=\u001B[0m\u001B[0;34m'10-Fold Cross Validation'\u001B[0m\u001B[0;34m,\u001B[0m \u001B[0mascending\u001B[0m\u001B[0;34m=\u001B[0m\u001B[0;32mFalse\u001B[0m\u001B[0;34m)\u001B[0m\u001B[0;34m\u001B[0m\u001B[0;34m\u001B[0m\u001B[0m\n\u001B[1;32m     22\u001B[0m \u001B[0mevaluation\u001B[0m\u001B[0;34m\u001B[0m\u001B[0;34m\u001B[0m\u001B[0m\n\u001B[0;32m---> 23\u001B[0;31m \u001B[0mmodel_performance_sc_plot\u001B[0m\u001B[0;34m(\u001B[0m\u001B[0mpred3\u001B[0m\u001B[0;34m,\u001B[0m \u001B[0mtest_data\u001B[0m\u001B[0;34m[\u001B[0m\u001B[0;34m'price'\u001B[0m\u001B[0;34m]\u001B[0m\u001B[0;34m,\u001B[0m \u001B[0;34m'Validation'\u001B[0m\u001B[0;34m)\u001B[0m\u001B[0;34m\u001B[0m\u001B[0;34m\u001B[0m\u001B[0m\n\u001B[0m",
      "\u001B[0;31mNameError\u001B[0m: name 'pred3' is not defined"
     ]
    }
   ],
   "source": [
    "from sklearn import metrics\n",
    "from sklearn.tree import DecisionTreeRegressor\n",
    "\n",
    "dt = DecisionTreeRegressor(random_state=seed)\n",
    "dt.fit(train_data[features], train_data['price'])\n",
    "\n",
    "pred1 = dt.predict(test_data[features])\n",
    "rmsecm1 = float(format(np.sqrt(metrics.mean_squared_error(test_data['price'], pred1)), '.3f'))\n",
    "rtrcm1 = float(format(dt.score(train_data[features], train_data['price']), '.3f'))\n",
    "artrcm1 = float(format(adjustedR2(dt.score(train_data[features], train_data['price']),\n",
    "                                  train_data.shape[0],\n",
    "                                  len(features)), '.3f'))\n",
    "rtecm1 = float(format(dt.score(test_data[features], test_data['price']), '.3f'))\n",
    "artecm1 = float(format(adjustedR2(dt.score(test_data[features], test_data['price']),\n",
    "                                  test_data.shape[0],\n",
    "                                  len(features)), '.3f'))\n",
    "cv1 = float(format(cross_val_score(dt, data1[features], data1['price'], cv=5).mean(), '.3f'))\n",
    "\n",
    "r = evaluation.shape[0]\n",
    "evaluation.loc[r] = ['Decision Tree', 'selected features', rmsecm1, rtrcm1, artrcm1, rtecm1, artecm1, cv1]\n",
    "evaluation.sort_values(by='10-Fold Cross Validation', ascending=False)\n",
    "evaluation"
   ]
  },
  {
   "cell_type": "code",
   "execution_count": null,
   "outputs": [],
   "source": [
    "model_performance_sc_plot(pred1, test_data['price'], 'Validation')"
   ],
   "metadata": {
    "collapsed": false,
    "pycharm": {
     "name": "#%%\n"
    }
   }
  },
  {
   "cell_type": "markdown",
   "metadata": {
    "pycharm": {
     "name": "#%% md\n"
    }
   },
   "source": [
    "### 2. Model KNN"
   ]
  },
  {
   "cell_type": "code",
   "execution_count": null,
   "metadata": {
    "pycharm": {
     "name": "#%%\n"
    }
   },
   "outputs": [],
   "source": [
    "from sklearn.neighbors import KNeighborsRegressor\n",
    "\n",
    "knn = KNeighborsRegressor()\n",
    "knn.fit(train_data[features], train_data['price'])\n",
    "\n",
    "pred2 = knn.predict(test_data[features])\n",
    "rmsecm2 = float(format(np.sqrt(metrics.mean_squared_error(test_data['price'], pred2)), '.3f'))\n",
    "rtrcm2 = float(format(knn.score(train_data[features], train_data['price']), '.3f'))\n",
    "artrcm2 = float(format(adjustedR2(knn.score(train_data[features], train_data['price']),\n",
    "                                  train_data.shape[0],\n",
    "                                  len(features)), '.3f'))\n",
    "rtecm2 = float(format(knn.score(test_data[features], test_data['price']), '.3f'))\n",
    "artecm2 = float(\n",
    "    format(adjustedR2(knn.score(test_data[features], test_data['price']),\n",
    "                      test_data.shape[0],\n",
    "                      len(features)), '.3f'))\n",
    "cv2 = float(format(cross_val_score(knn, data1[features], data1['price'], cv=10).mean(), '.3f'))\n",
    "\n",
    "r = evaluation.shape[0]\n",
    "evaluation.loc[r] = ['KNN', 'selected features', rmsecm2, rtrcm2, artrcm2, rtecm2, artecm2, cv2]\n",
    "evaluation.sort_values(by='10-Fold Cross Validation', ascending=False)\n",
    "evaluation"
   ]
  },
  {
   "cell_type": "code",
   "execution_count": null,
   "outputs": [],
   "source": [
    "model_performance_sc_plot(pred2, test_data['price'], 'Validation')"
   ],
   "metadata": {
    "collapsed": false,
    "pycharm": {
     "name": "#%%\n"
    }
   }
  },
  {
   "cell_type": "markdown",
   "metadata": {},
   "source": [
    "### 3. Model linear regression"
   ]
  },
  {
   "cell_type": "code",
   "execution_count": null,
   "metadata": {
    "pycharm": {
     "name": "#%%\n"
    }
   },
   "outputs": [],
   "source": [
    "from sklearn.linear_model import LinearRegression\n",
    "\n",
    "lr = LinearRegression()\n",
    "lr.fit(train_data[features], train_data['price'])\n",
    "\n",
    "pred3 = lr.predict(test_data[features])\n",
    "rmsecm3 = float(format(np.sqrt(metrics.mean_squared_error(test_data['price'], pred3)), '.3f'))\n",
    "rtrcm3 = float(format(lr.score(train_data[features], train_data['price']), '.3f'))\n",
    "artrcm3 = float(format(adjustedR2(lr.score(train_data[features], train_data['price']),\n",
    "                                  train_data.shape[0],\n",
    "                                  len(features)), '.3f'))\n",
    "rtecm3 = float(format(lr.score(test_data[features], test_data['price']), '.3f'))\n",
    "artecm3 = float(\n",
    "    format(adjustedR2(lr.score(test_data[features], test_data['price']),\n",
    "                      test_data.shape[0],\n",
    "                      len(features)), '.3f'))\n",
    "cv3 = float(format(cross_val_score(lr, data1[features], data1['price'], cv=10).mean(), '.3f'))\n",
    "\n",
    "r = evaluation.shape[0]\n",
    "evaluation.loc[r] = ['Linear regression', 'selected features', rmsecm3, rtrcm3, artrcm3, rtecm3, artecm3, cv3]\n",
    "evaluation.sort_values(by='10-Fold Cross Validation', ascending=False)\n",
    "evaluation"
   ]
  },
  {
   "cell_type": "code",
   "execution_count": null,
   "outputs": [],
   "source": [
    "model_performance_sc_plot(pred3, test_data['price'], 'Validation')\n",
    "\n",
    "\n",
    "\n",
    "\n"
   ],
   "metadata": {
    "collapsed": false,
    "pycharm": {
     "name": "#%%\n"
    }
   }
  }
 ],
 "metadata": {
  "kernelspec": {
   "display_name": "Python 3",
   "language": "python",
   "name": "python3"
  },
  "language_info": {
   "codemirror_mode": {
    "name": "ipython",
    "version": 3
   },
   "file_extension": ".py",
   "mimetype": "text/x-python",
   "name": "python",
   "nbconvert_exporter": "python",
   "pygments_lexer": "ipython3",
   "version": "3.8.7"
  }
 },
 "nbformat": 4,
 "nbformat_minor": 1
}